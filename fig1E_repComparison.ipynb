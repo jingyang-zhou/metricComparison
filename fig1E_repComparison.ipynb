{
 "cells": [
  {
   "cell_type": "code",
   "execution_count": 2,
   "id": "a3caded8-d9c3-4edf-b296-fab4484f2029",
   "metadata": {},
   "outputs": [],
   "source": [
    "# Figure 1E - compare two representations that share the same metrics using a diverse set of methods\n",
    "\n",
    "import numpy as np\n"
   ]
  },
  {
   "cell_type": "code",
   "execution_count": null,
   "id": "36d0f24f-5945-4041-9eda-d8c89382458c",
   "metadata": {},
   "outputs": [],
   "source": [
    "# I want to generate maybe 2 different pairs of example representations. \n",
    "\n",
    "# (1) I hand construct the mathematical expression for each representation. \n",
    "# (2) I randomly sample some points and compare representations from the point cloud.\n",
    "\n"
   ]
  }
 ],
 "metadata": {
  "kernelspec": {
   "display_name": "Python 3",
   "language": "python",
   "name": "python3"
  },
  "language_info": {
   "codemirror_mode": {
    "name": "ipython",
    "version": 3
   },
   "file_extension": ".py",
   "mimetype": "text/x-python",
   "name": "python",
   "nbconvert_exporter": "python",
   "pygments_lexer": "ipython3",
   "version": "3.8.8"
  }
 },
 "nbformat": 4,
 "nbformat_minor": 5
}
