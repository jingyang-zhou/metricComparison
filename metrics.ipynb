{
 "cells": [
  {
   "cell_type": "code",
   "execution_count": 1,
   "id": "71dbb79b-b197-4a21-b2b2-a9e340646552",
   "metadata": {},
   "outputs": [],
   "source": [
    "# This file contains all the metrics that we compare in the paper\n",
    "\n",
    "# The metrics include CCA, mean squared CCA correlation, mean CCA correlation, pair-wise cca distance, linear cka distance, \n",
    "# linear cka prime distance, procrustes distance, and stochastic procrustes distance\n",
    "\n",
    "import numpy as np\n",
    "import matplotlib.pyplot as plt\n",
    "\n",
    "# ----------------------------------------\n",
    "def cca_decomp(A, B):\n",
    "    \"\"\"Computes CCA vectors, correlations, and transformed matrices\n",
    "    requires a < n and b < n\n",
    "    Args:\n",
    "        A: np.array of size a x n where a is the number of neurons and n is the dataset size\n",
    "        B: np.array of size b x n where b is the number of neurons and n is the dataset size\n",
    "    Returns:\n",
    "        u: left singular vectors for the inner SVD problem\n",
    "        s: canonical correlation coefficients\n",
    "        vh: right singular vectors for the inner SVD problem\n",
    "        transformed_a: canonical vectors for matrix A, a x n array\n",
    "        transformed_b: canonical vectors for matrix B, b x n array\n",
    "    \"\"\"\n",
    "    assert A.shape[0] < A.shape[1]\n",
    "    assert B.shape[0] < B.shape[1]\n",
    "\n",
    "    evals_a, evecs_a = np.linalg.eigh(A @ A.T)\n",
    "    evals_a = (evals_a + np.abs(evals_a)) / 2\n",
    "    inv_a = np.array([1 / np.sqrt(x) if x > 0 else 0 for x in evals_a])\n",
    "\n",
    "    evals_b, evecs_b = np.linalg.eigh(B @ B.T)\n",
    "    evals_b = (evals_b + np.abs(evals_b)) / 2\n",
    "    inv_b = np.array([1 / np.sqrt(x) if x > 0 else 0 for x in evals_b])\n",
    "\n",
    "    cov_ab = A @ B.T\n",
    "\n",
    "    temp = (\n",
    "        (evecs_a @ np.diag(inv_a) @ evecs_a.T)\n",
    "        @ cov_ab\n",
    "        @ (evecs_b @ np.diag(inv_b) @ evecs_b.T)\n",
    "    )\n",
    "\n",
    "    try:\n",
    "        u, s, vh = np.linalg.svd(temp)\n",
    "    except:\n",
    "        u, s, vh = np.linalg.svd(temp * 100)\n",
    "        s = s / 100\n",
    "\n",
    "    transformed_a = (u.T @ (evecs_a @ np.diag(inv_a) @ evecs_a.T) @ A).T\n",
    "    transformed_b = (vh @ (evecs_b @ np.diag(inv_b) @ evecs_b.T) @ B).T\n",
    "    return u, s, vh, transformed_a, transformed_b\n",
    "    \n",
    "    \n",
    "# ------------------------------------------\n",
    "def mean_sq_cca_corr(rho):\n",
    "    \"\"\"\n",
    "    compute mean squared cca correlation\n",
    "    ARG: \n",
    "    rho: canonical correlation coefficients returned by cca_decomp(A, B)\n",
    "    \n",
    "    \"\"\"\n",
    "    return np.sum(rho * rho) / len(rho)\n",
    "\n",
    "# ------------------------------------------\n",
    "def mean_cca_corr(rho):\n",
    "    \"\"\"\n",
    "    compute mean cca correlation\n",
    "    ARG:\n",
    "    rho: canonical correlation coefficients returned by cca_decomp(A, B)\n",
    "    \"\"\"\n",
    "    return np.sum(rho) / len(rho)\n",
    "    \n",
    "    \n",
    "# ------------------------------------------\n",
    "def lin_cka_dist(A, B):\n",
    "    \"\"\"\n",
    "    computes linear CKA distance between two representations A and B\n",
    "    \"\"\"\n",
    "    similarity = np.linalg.norm(B @ A.T, ord = \"fro\") ** 2\n",
    "    normalization = np.linalg.norm(A @ A.T, ord = \"fro\") * np.linalg.norm(B @ B.T, ord = \"fro\")\n",
    "    return 1 - similarity / normalization\n",
    "\n",
    "\n",
    "# ------------------------------------------\n",
    "def pwcca_dist(A, rho, transformed_a):\n",
    "    \"\"\"Computes projection weighted CCA distance between A and B given the correlation\n",
    "    coefficients rho and the transformed matrices after running CCA\n",
    "    :param A: np.array of size a x n where a is the number of neurons and n is the dataset size\n",
    "    :param B: np.array of size b x n where b is the number of neurons and n is the dataset size\n",
    "    :param rho: canonical correlation coefficients returned by cca_decomp(A,B)\n",
    "    :param transformed_a: canonical vectors for A returned by cca_decomp(A,B)\n",
    "    :param transformed_b: canonical vectors for B returned by cca_decomp(A,B)\n",
    "    :return: PWCCA distance\n",
    "    \"\"\"\n",
    "    in_prod = transformed_a.T @ A.T\n",
    "    weights = np.sum(np.abs(in_prod), axis=1)\n",
    "    weights = weights / np.sum(weights)\n",
    "    dim = min(len(weights), len(rho))\n",
    "    return 1 - np.dot(weights[:dim], rho[:dim])\n",
    "\n",
    "\n",
    "# ---------------------------------------------\n",
    "def lin_cka_prime_dist(A, B):\n",
    "    \"\"\"\n",
    "    Computes Linear CKA prime distance bewteen representations A and B\n",
    "    The version here is suited to a, b >> n\n",
    "    \"\"\"\n",
    "    if A.shape[0] > A.shape[1]:\n",
    "        At_A = A.T @ A  # O(n * n * a)\n",
    "        Bt_B = B.T @ B  # O(n * n * a)\n",
    "        numerator = np.sum((At_A - Bt_B) ** 2)\n",
    "        denominator = np.sum(A ** 2) ** 2 + np.sum(B ** 2) ** 2\n",
    "        return numerator / denominator\n",
    "    else:\n",
    "        similarity = np.linalg.norm(B @ A.T, ord=\"fro\") ** 2\n",
    "        denominator = np.sum(A ** 2) ** 2 + np.sum(B ** 2) ** 2\n",
    "        return 1 - 2 * similarity / denominator\n",
    "    \n",
    "    \n",
    "\n",
    "# --------------------------------------------??????????\n",
    "# I may use the code from Alex for Procrustes and stochastc metric comparison.\n",
    "def procrustes(A, B):\n",
    "    \"\"\"\n",
    "    computes Procrustes distance between representations A and B\n",
    "    \"\"\"\n",
    "   # A_sq_frob = np.\n",
    "\n",
    "\n",
    "# ---------------------------------------------------------\n",
    "# functions useful for comparing representations\n",
    "def mk_gaussian(s, c1, c2):\n",
    "    \"\"\"\n",
    "    Make Gaussian tuning curves.\n",
    "    ARG:\n",
    "    s: one dimensional stimulus\n",
    "    c1: first gaussian parameter that governs the center\n",
    "    c2: second gaussian parameter that governs the width\n",
    "    RETURNS:\n",
    "    rsp: has the same dimensionality as the stimulus\n",
    "    \"\"\"\n",
    "    rsp = np.exp(-(s - c1)**2/(2 * c2 ** 2))\n",
    "    return rsp\n",
    "    \n",
    "    "
   ]
  },
  {
   "cell_type": "code",
   "execution_count": 2,
   "id": "cd1278b5-163d-460e-bb97-b0c4e27c19df",
   "metadata": {},
   "outputs": [],
   "source": [
    "# make stimulus\n",
    "\n",
    "nterms = 200;\n",
    "s = np.linspace(-1.2, 1.2, nterms)\n"
   ]
  },
  {
   "cell_type": "code",
   "execution_count": 3,
   "id": "f9f2d78d-aa70-4393-8686-a04efb3de640",
   "metadata": {},
   "outputs": [
    {
     "data": {
      "text/plain": [
       "(<AxesSubplot:>,\n",
       " [<matplotlib.lines.Line2D at 0x7fe9703a8550>,\n",
       "  <matplotlib.lines.Line2D at 0x7fe9703a8580>])"
      ]
     },
     "execution_count": 3,
     "metadata": {},
     "output_type": "execute_result"
    },
    {
     "data": {
      "image/png": "[encoded data removed]",
      "text/plain": [
       "<Figure size 432x288 with 2 Axes>"
      ]
     },
     "metadata": {
      "needs_background": "light"
     },
     "output_type": "display_data"
    }
   ],
   "source": [
    "# construct two representations\n",
    "\n",
    "# the first representation\n",
    "r1_c1, r1_c2 = -0.2, 0.15\n",
    "r1_mu1 = mk_gaussian(s, r1_c1, r1_c2)\n",
    "\n",
    "r1_c3, r1_c4 = 0.2, 0.15\n",
    "r1_mu2 = mk_gaussian(s, r1_c3, r1_c4)\n",
    "\n",
    "plt.subplots(1, 2)\n",
    "plt.subplot(121), plt.plot(s, r1_mu1, s, r1_mu2)\n",
    "\n",
    "# the second representation\n",
    "r2_mu1 = np.log(r1_mu1)\n",
    "r2_mu2 = np.log(r1_mu2)\n",
    "\n",
    "plt.subplot(122), plt.plot(s, r2_mu1, s, r2_mu2)\n"
   ]
  },
  {
   "cell_type": "code",
   "execution_count": 4,
   "id": "3e68a84e-2d41-4daf-bf00-573afb0b371d",
   "metadata": {},
   "outputs": [],
   "source": [
    "# create samples\n",
    "\n",
    "n_samples = 56 # 56\n",
    "\n",
    "id = np.round(np.linspace(0, nterms - 1, n_samples)).astype(int)\n",
    "\n",
    "r1_mu_sample, r2_mu_sample = np.zeros([n_samples, 2]), np.zeros([n_samples, 2])\n",
    "r1_cov_sample, r2_cov_sample = np.zeros([n_samples, 2, 2]), np.zeros([n_samples, 2, 2])\n",
    "\n",
    "std_scale = 0.25 # scale on the standard deviation\n",
    "\n",
    "for k in range(n_samples):\n",
    "    # extract mean responses from the two representations\n",
    "    r1_mu_sample[k, :] = [r1_mu1[id[k]], r1_mu2[id[k]]]\n",
    "    r2_mu_sample[k, :] = [r2_mu1[id[k]], r2_mu2[id[k]]]\n",
    "    \n",
    "    # extract covariance responses from the two representations\n",
    "    r1_cov_sample[k, :, :] = [[(std_scale * r1_mu1[id[k]]) ** 2, 0], [0, (std_scale * r1_mu2[id[k]]) ** 2]]\n",
    "    r2_cov_sample[k, :, :] = [[(1/std_scale) ** 2, 0],  [0, (1/std_scale) ** 2]]\n",
    "    "
   ]
  },
  {
   "cell_type": "code",
   "execution_count": 5,
   "id": "fb5e1bde-e1bb-4cd0-b02c-f8d4568b2c70",
   "metadata": {},
   "outputs": [
    {
     "data": {
      "text/plain": [
       "(<AxesSubplot:>, [<matplotlib.lines.Line2D at 0x7fe968c99c10>])"
      ]
     },
     "execution_count": 5,
     "metadata": {},
     "output_type": "execute_result"
    },
    {
     "data": {
      "image/png": "[encoded data removed]",
      "text/plain": [
       "<Figure size 432x288 with 2 Axes>"
      ]
     },
     "metadata": {
      "needs_background": "light"
     },
     "output_type": "display_data"
    }
   ],
   "source": [
    "# visualize the sampled mean responses\n",
    "\n",
    "plt.subplots(1, 2)\n",
    "plt.subplot(121), plt.plot(r1_mu_sample[:, 0], r1_mu_sample[:, 1], 'ko')\n",
    "plt.subplot(122), plt.plot(r2_mu_sample[:, 0], r2_mu_sample[:, 1], 'ko')"
   ]
  },
  {
   "cell_type": "code",
   "execution_count": 6,
   "id": "25fbfe07-bb94-41bd-b040-be685a8de569",
   "metadata": {},
   "outputs": [],
   "source": [
    "# compare representations\n",
    "\n",
    "# cca:\n",
    "u, rho, vh, transformed_a, transformed_b = cca_decomp(r1_mu_sample.T, r2_mu_sample.T)\n",
    "\n",
    "msq_cca_score = mean_sq_cca_corr(rho)\n",
    "m_cca_score   = mean_cca_corr(rho)\n",
    "lin_cka_score = lin_cka_dist(r2_mu_sample.T, r1_mu_sample.T)\n",
    "pwcca_dist1 = pwcca_dist(r1_mu_sample.T, rho, transformed_a)\n",
    "pwcca_dist2 = pwcca_dist(r2_mu_sample.T, rho, transformed_b)\n",
    "lcka_prime_score = lin_cka_prime_dist(r1_mu_sample.T, r2_mu_sample.T)\n"
   ]
  },
  {
   "cell_type": "code",
   "execution_count": 7,
   "id": "7f1ab1cf-e1fa-46e2-b4b1-e648c5ed3177",
   "metadata": {},
   "outputs": [
    {
     "name": "stdout",
     "output_type": "stream",
     "text": [
      "0.9748472056498062\n",
      "0.8523324941830484\n",
      "0.9895599576988513\n",
      "0.8572008363027468\n",
      "0.8572008363027468\n",
      "0.9999949028004121\n"
     ]
    }
   ],
   "source": [
    "print(1 - msq_cca_score)\n",
    "print(1 - m_cca_score)\n",
    "print(lin_cka_score)\n",
    "print(pwcca_dist1)\n",
    "print(pwcca_dist1)\n",
    "print(lcka_prime_score)"
   ]
  },
  {
   "cell_type": "code",
   "execution_count": 8,
   "id": "0d9e4f2f-bffe-4512-8c9d-25316ed60d40",
   "metadata": {},
   "outputs": [
    {
     "name": "stdout",
     "output_type": "stream",
     "text": [
      "8.881784197001252e-16\n",
      "4.440892098500626e-16\n",
      "0.0\n",
      "4.440892098500626e-16\n",
      "4.440892098500626e-16\n",
      "0.9999949028004121\n"
     ]
    }
   ],
   "source": [
    "# compare the representation to itself\n",
    "u, rho, vh, transformed_a, transformed_b = cca_decomp(r1_mu_sample.T, r1_mu_sample.T)\n",
    "\n",
    "msq_cca_score = mean_sq_cca_corr(rho)\n",
    "m_cca_score   = mean_cca_corr(rho)\n",
    "lin_cka_score = lin_cka_dist(r1_mu_sample.T, r1_mu_sample.T)\n",
    "pwcca_dist1 = pwcca_dist(r1_mu_sample.T, rho, transformed_a)\n",
    "pwcca_dist2 = pwcca_dist(r2_mu_sample.T, rho, transformed_b)\n",
    "\n",
    "print(1 - msq_cca_score)\n",
    "print(1 - m_cca_score)\n",
    "print(lin_cka_score)\n",
    "print(pwcca_dist1)\n",
    "print(pwcca_dist1)\n",
    "print(lcka_prime_score)\n",
    "\n"
   ]
  },
  {
   "cell_type": "code",
   "execution_count": 9,
   "id": "4e09570b-d5e2-435c-a480-6a2eddd22853",
   "metadata": {},
   "outputs": [
    {
     "data": {
      "text/plain": [
       "4.440892098500626e-16"
      ]
     },
     "execution_count": 9,
     "metadata": {},
     "output_type": "execute_result"
    }
   ],
   "source": [
    "pwcca_dist2"
   ]
  }
 ],
 "metadata": {
  "kernelspec": {
   "display_name": "Python 3",
   "language": "python",
   "name": "python3"
  },
  "language_info": {
   "codemirror_mode": {
    "name": "ipython",
    "version": 3
   },
   "file_extension": ".py",
   "mimetype": "text/x-python",
   "name": "python",
   "nbconvert_exporter": "python",
   "pygments_lexer": "ipython3",
   "version": "3.8.8"
  }
 },
 "nbformat": 4,
 "nbformat_minor": 5
}
